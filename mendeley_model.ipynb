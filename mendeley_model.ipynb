{
 "cells": [
  {
   "cell_type": "markdown",
   "metadata": {},
   "source": [
    "Noah Anderson  \n",
    "July 15th, 2024  \n",
    "\n",
    "# Load Libraries"
   ]
  },
  {
   "cell_type": "code",
   "execution_count": 1,
   "metadata": {},
   "outputs": [],
   "source": [
    "from efficientnet_pytorch import EfficientNet\n",
    "from torchvision import  transforms\n",
    "from torchvision.datasets import ImageFolder\n",
    "from torch.utils.data.dataloader import DataLoader\n",
    "import os\n",
    "import torch\n",
    "from torch.optim.lr_scheduler import ReduceLROnPlateau\n",
    "import multiprocessing\n",
    "from torch.utils.data import DataLoader, ConcatDataset, random_split\n",
    "import numpy as np\n",
    "import torch\n",
    "from torchvision.transforms import Compose, RandomRotation, RandomHorizontalFlip, Resize, CenterCrop, ToTensor, Normalize, GaussianBlur\n",
    "from PIL import Image\n",
    "import torch\n",
    "from sklearn.metrics import precision_score, recall_score, f1_score\n",
    "\n",
    "\n"
   ]
  },
  {
   "cell_type": "markdown",
   "metadata": {},
   "source": [
    "# Define Transformations and Read Data"
   ]
  },
  {
   "cell_type": "code",
   "execution_count": 2,
   "metadata": {},
   "outputs": [],
   "source": [
    "# Center crop and resize to 224 by 224 and convert to tensor\n",
    "data_transform = Compose([\n",
    "    Resize(224),\n",
    "    CenterCrop(224),\n",
    "    ToTensor()\n",
    "])\n",
    "\n",
    "# Define data path\n",
    "data_dir = \"mendeley_data\"\n",
    "\n",
    "# Read in the data with ImageFolder\n",
    "data = ImageFolder(data_dir, transform = data_transform)"
   ]
  },
  {
   "cell_type": "markdown",
   "metadata": {},
   "source": [
    "# Shuffling and Re-Splitting Test and Train"
   ]
  },
  {
   "cell_type": "code",
   "execution_count": 3,
   "metadata": {},
   "outputs": [],
   "source": [
    "# Set seed for reproducibility\n",
    "torch.manual_seed(42)  # You can use any integer value as the seed\n",
    "\n",
    "# Define the sizes for the splits\n",
    "train_size = int(0.8 * len(data))\n",
    "val_size = int(0.1 * len(data))\n",
    "test_size = len(data) - train_size - val_size\n",
    "\n",
    "# Split the dataset into new train and test sets (e.g., 90% train, 10% test)\n",
    "trainset, valset, testset = random_split(data, [train_size, val_size, test_size])\n",
    "\n",
    "# Define batchsize\n",
    "batch_size = 32  \n",
    "\n",
    "# DataLoaders\n",
    "train_loader = DataLoader(trainset, batch_size = batch_size, shuffle = True, num_workers = 6, pin_memory = True)\n",
    "val_loader = DataLoader(valset, batch_size = batch_size * 2, shuffle = True, num_workers = 6, pin_memory = True)\n",
    "test_loader = DataLoader(testset, batch_size = batch_size * 2, num_workers = 6, pin_memory = True)"
   ]
  },
  {
   "cell_type": "markdown",
   "metadata": {},
   "source": [
    "# Change Device to GPU"
   ]
  },
  {
   "cell_type": "code",
   "execution_count": 4,
   "metadata": {},
   "outputs": [
    {
     "name": "stdout",
     "output_type": "stream",
     "text": [
      "Using device: mps\n"
     ]
    }
   ],
   "source": [
    "\n",
    "# Set device to CPU\n",
    "device = torch.device(\"mps\") # try runnign mps next\n",
    "print(f'Using device: {device}')\n",
    "\n",
    "multiprocessing.set_start_method(\"fork\")"
   ]
  },
  {
   "cell_type": "markdown",
   "metadata": {},
   "source": [
    "# Set Model Features"
   ]
  },
  {
   "cell_type": "code",
   "execution_count": 5,
   "metadata": {},
   "outputs": [
    {
     "name": "stdout",
     "output_type": "stream",
     "text": [
      "Loaded pretrained weights for efficientnet-b0\n"
     ]
    }
   ],
   "source": [
    "\n",
    "\n",
    "# Load the pre-trained EfficientNet-B0 model\n",
    "model = EfficientNet.from_pretrained('efficientnet-b0')\n",
    "\n",
    "\n",
    "# Modify the last layer to match the number of classes in your dataset\n",
    "num_classes = len(data.classes)\n",
    "model._fc = torch.nn.Linear(model._fc.in_features, num_classes)\n",
    "\n",
    "\n",
    "# Move model to the device (CPU in this case)\n",
    "model.to(device)\n",
    "\n",
    "# Define loss function and optimizer\n",
    "criterion = torch.nn.CrossEntropyLoss()\n",
    "\n",
    "# Select Adam optimizer\n",
    "optimizer = torch.optim.Adam(model.parameters(), lr = .001) # Learning rate used in Kaur et. al\n",
    "\n",
    "# Learning Rate Scheduler\n",
    "scheduler = ReduceLROnPlateau(optimizer, mode = 'max', factor = 0.3, patience = 2)\n",
    "\n",
    "# Define accuracy function\n",
    "def calculate_accuracy(outputs, labels):\n",
    "    _, preds = torch.max(outputs, 1)\n",
    "    corrects = (preds == labels).sum().item()\n",
    "    return corrects\n"
   ]
  },
  {
   "cell_type": "markdown",
   "metadata": {},
   "source": [
    "# Train Model"
   ]
  },
  {
   "cell_type": "code",
   "execution_count": 6,
   "metadata": {},
   "outputs": [
    {
     "name": "stdout",
     "output_type": "stream",
     "text": [
      "     Epoch training complete, now starting validation\n",
      "Epoch 1 \t\t Training Loss: 0.1921 \t\t Validation Loss: 1.8668 \t\t Training Accuracy: 0.9379 \t\t Validation Accuracy: 0.5541\n",
      "Validation loss decreased(inf--->1.866763) \t Saving the model\n",
      "Validation accuracy increased (0.000000)--->0.5541310541310541 \t Saving the best accuracy model\n",
      "     Epoch training complete, now starting validation\n",
      "Epoch 2 \t\t Training Loss: 0.0729 \t\t Validation Loss: 0.1751 \t\t Training Accuracy: 0.9753 \t\t Validation Accuracy: 0.9345\n",
      "Validation loss decreased(1.866763--->0.175090) \t Saving the model\n",
      "Validation accuracy increased (0.554131)--->0.9344729344729344 \t Saving the best accuracy model\n",
      "     Epoch training complete, now starting validation\n",
      "Epoch 3 \t\t Training Loss: 0.0607 \t\t Validation Loss: 0.1441 \t\t Training Accuracy: 0.9810 \t\t Validation Accuracy: 0.9387\n",
      "Validation loss decreased(0.175090--->0.144060) \t Saving the model\n",
      "Validation accuracy increased (0.934473)--->0.9387464387464387 \t Saving the best accuracy model\n",
      "     Epoch training complete, now starting validation\n",
      "Epoch 4 \t\t Training Loss: 0.0359 \t\t Validation Loss: 0.2163 \t\t Training Accuracy: 0.9897 \t\t Validation Accuracy: 0.9416\n",
      "Validation accuracy increased (0.938746)--->0.9415954415954416 \t Saving the best accuracy model\n",
      "     Epoch training complete, now starting validation\n",
      "Epoch 5 \t\t Training Loss: 0.0134 \t\t Validation Loss: 0.0208 \t\t Training Accuracy: 0.9959 \t\t Validation Accuracy: 0.9972\n",
      "Validation loss decreased(0.144060--->0.020772) \t Saving the model\n",
      "Validation accuracy increased (0.941595)--->0.9971509971509972 \t Saving the best accuracy model\n",
      "     Epoch training complete, now starting validation\n",
      "Epoch 6 \t\t Training Loss: 0.0048 \t\t Validation Loss: 0.0236 \t\t Training Accuracy: 0.9989 \t\t Validation Accuracy: 0.9900\n",
      "     Epoch training complete, now starting validation\n",
      "Epoch 7 \t\t Training Loss: 0.0045 \t\t Validation Loss: 0.0241 \t\t Training Accuracy: 0.9989 \t\t Validation Accuracy: 0.9886\n",
      "     Epoch training complete, now starting validation\n",
      "Epoch 8 \t\t Training Loss: 0.0023 \t\t Validation Loss: 0.0195 \t\t Training Accuracy: 0.9995 \t\t Validation Accuracy: 0.9943\n",
      "Validation loss decreased(0.020772--->0.019507) \t Saving the model\n",
      "     Epoch training complete, now starting validation\n",
      "Epoch 9 \t\t Training Loss: 0.0016 \t\t Validation Loss: 0.0165 \t\t Training Accuracy: 0.9996 \t\t Validation Accuracy: 0.9929\n",
      "Validation loss decreased(0.019507--->0.016507) \t Saving the model\n",
      "     Epoch training complete, now starting validation\n",
      "Epoch 10 \t\t Training Loss: 0.0017 \t\t Validation Loss: 0.0183 \t\t Training Accuracy: 0.9998 \t\t Validation Accuracy: 0.9943\n",
      "     Epoch training complete, now starting validation\n",
      "Epoch 11 \t\t Training Loss: 0.0025 \t\t Validation Loss: 0.0187 \t\t Training Accuracy: 0.9995 \t\t Validation Accuracy: 0.9943\n",
      "     Epoch training complete, now starting validation\n",
      "Epoch 12 \t\t Training Loss: 0.0019 \t\t Validation Loss: 0.0163 \t\t Training Accuracy: 0.9996 \t\t Validation Accuracy: 0.9929\n",
      "Validation loss decreased(0.016507--->0.016280) \t Saving the model\n",
      "     Epoch training complete, now starting validation\n",
      "Epoch 13 \t\t Training Loss: 0.0032 \t\t Validation Loss: 0.0221 \t\t Training Accuracy: 0.9989 \t\t Validation Accuracy: 0.9943\n",
      "     Epoch training complete, now starting validation\n",
      "Epoch 14 \t\t Training Loss: 0.0007 \t\t Validation Loss: 0.0207 \t\t Training Accuracy: 1.0000 \t\t Validation Accuracy: 0.9943\n",
      "     Epoch training complete, now starting validation\n",
      "Epoch 15 \t\t Training Loss: 0.0011 \t\t Validation Loss: 0.0204 \t\t Training Accuracy: 1.0000 \t\t Validation Accuracy: 0.9943\n",
      "     Epoch training complete, now starting validation\n",
      "Epoch 16 \t\t Training Loss: 0.0009 \t\t Validation Loss: 0.0196 \t\t Training Accuracy: 1.0000 \t\t Validation Accuracy: 0.9943\n",
      "     Epoch training complete, now starting validation\n",
      "Epoch 17 \t\t Training Loss: 0.0012 \t\t Validation Loss: 0.0192 \t\t Training Accuracy: 0.9998 \t\t Validation Accuracy: 0.9943\n",
      "     Epoch training complete, now starting validation\n",
      "Epoch 18 \t\t Training Loss: 0.0013 \t\t Validation Loss: 0.0196 \t\t Training Accuracy: 0.9996 \t\t Validation Accuracy: 0.9943\n",
      "     Epoch training complete, now starting validation\n",
      "Epoch 19 \t\t Training Loss: 0.0014 \t\t Validation Loss: 0.0199 \t\t Training Accuracy: 0.9998 \t\t Validation Accuracy: 0.9943\n",
      "     Epoch training complete, now starting validation\n",
      "Epoch 20 \t\t Training Loss: 0.0009 \t\t Validation Loss: 0.0196 \t\t Training Accuracy: 1.0000 \t\t Validation Accuracy: 0.9943\n",
      "     Epoch training complete, now starting validation\n",
      "Epoch 21 \t\t Training Loss: 0.0014 \t\t Validation Loss: 0.0194 \t\t Training Accuracy: 0.9995 \t\t Validation Accuracy: 0.9943\n",
      "     Epoch training complete, now starting validation\n",
      "Epoch 22 \t\t Training Loss: 0.0009 \t\t Validation Loss: 0.0199 \t\t Training Accuracy: 1.0000 \t\t Validation Accuracy: 0.9943\n",
      "     Epoch training complete, now starting validation\n",
      "Epoch 23 \t\t Training Loss: 0.0016 \t\t Validation Loss: 0.0195 \t\t Training Accuracy: 0.9996 \t\t Validation Accuracy: 0.9943\n",
      "     Epoch training complete, now starting validation\n",
      "Epoch 24 \t\t Training Loss: 0.0011 \t\t Validation Loss: 0.0198 \t\t Training Accuracy: 0.9998 \t\t Validation Accuracy: 0.9943\n",
      "     Epoch training complete, now starting validation\n",
      "Epoch 25 \t\t Training Loss: 0.0012 \t\t Validation Loss: 0.0193 \t\t Training Accuracy: 0.9995 \t\t Validation Accuracy: 0.9943\n",
      "     Epoch training complete, now starting validation\n",
      "Epoch 26 \t\t Training Loss: 0.0018 \t\t Validation Loss: 0.0203 \t\t Training Accuracy: 0.9996 \t\t Validation Accuracy: 0.9943\n",
      "     Epoch training complete, now starting validation\n",
      "Epoch 27 \t\t Training Loss: 0.0015 \t\t Validation Loss: 0.0199 \t\t Training Accuracy: 0.9996 \t\t Validation Accuracy: 0.9943\n",
      "     Epoch training complete, now starting validation\n",
      "Epoch 28 \t\t Training Loss: 0.0022 \t\t Validation Loss: 0.0193 \t\t Training Accuracy: 0.9993 \t\t Validation Accuracy: 0.9943\n",
      "     Epoch training complete, now starting validation\n",
      "Epoch 29 \t\t Training Loss: 0.0012 \t\t Validation Loss: 0.0195 \t\t Training Accuracy: 0.9996 \t\t Validation Accuracy: 0.9943\n",
      "     Epoch training complete, now starting validation\n",
      "Epoch 30 \t\t Training Loss: 0.0011 \t\t Validation Loss: 0.0203 \t\t Training Accuracy: 0.9998 \t\t Validation Accuracy: 0.9943\n"
     ]
    }
   ],
   "source": [
    "\n",
    "# Set initial values for epoch tracking lists\n",
    "train_losses = [] # Training loss list\n",
    "val_losses = [] # Validation loss list\n",
    "train_accuracies = [] # Training accuarcy list\n",
    "val_accuracies = [] # Validation accuracy list\n",
    "num_epochs = 30 # Define number of epochs\n",
    "min_valid_loss = np.inf # Initialize minimum validation loss as infinite\n",
    "max_valid_accuracy = 0 # Initalize maximum validation accuracy as 0\n",
    "\n",
    "# Epoch training loop\n",
    "for epoch in range(num_epochs):\n",
    "    model.train()  # Set the model to training mode\n",
    "    train_loss = 0.0 # Initialize training loss\n",
    "    running_corrects = 0\n",
    "\n",
    "    for batch_images, batch_labels in train_loader:\n",
    "        batch_images, batch_labels = batch_images.to(device), batch_labels.to(device)  # Move data to the GPU\n",
    "        \n",
    "        optimizer.zero_grad()  # Zero the gradients\n",
    "        outputs = model(batch_images)  # Forward pass\n",
    "        loss = criterion(outputs, batch_labels)  # Compute loss\n",
    "        loss.backward()  # Backward pass\n",
    "        optimizer.step()  # Update model parameters\n",
    "        \n",
    "        train_loss += loss.item() * batch_images.size(0)  # Accumulate loss\n",
    "        running_corrects += calculate_accuracy(outputs, batch_labels)  # Accumulate correct predictions\n",
    "    \n",
    "    print(\"     Epoch training complete, now starting validation\")\n",
    "\n",
    "    ### Validation\n",
    "    val_loss = 0.0\n",
    "    val_corrects = 0\n",
    "    model.eval()\n",
    "    with torch.no_grad():  # Disable gradient calculation\n",
    "        for batch_images, batch_labels in val_loader:\n",
    "            batch_images, batch_labels = batch_images.to(device), batch_labels.to(device)  # Move data to the GPU\n",
    "            \n",
    "            outputs = model(batch_images)\n",
    "            loss = criterion(outputs, batch_labels)\n",
    "            val_loss += loss.item() * batch_images.size(0)  # Accumulate loss\n",
    "            val_corrects += calculate_accuracy(outputs, batch_labels)  # Accumulate correct predictions\n",
    "\n",
    "    train_loss /= len(train_loader.dataset)\n",
    "    val_loss /= len(val_loader.dataset)\n",
    "    train_acc = running_corrects / len(train_loader.dataset)\n",
    "    val_acc = val_corrects / len(val_loader.dataset)\n",
    "\n",
    "    print(f'Epoch {epoch + 1} \\t\\t Training Loss: {train_loss:.4f} \\t\\t Validation Loss: {val_loss:.4f} \\t\\t Training Accuracy: {train_acc:.4f} \\t\\t Validation Accuracy: {val_acc:.4f}')\n",
    "\n",
    "    train_losses.append(train_loss)\n",
    "    val_losses.append(val_loss)\n",
    "    train_accuracies.append(train_acc)\n",
    "    val_accuracies.append(val_acc)\n",
    "\n",
    "    if min_valid_loss > val_loss:\n",
    "        print(f'Validation loss decreased({min_valid_loss:.6f}--->{val_loss:.6f}) \\t Saving the model')\n",
    "        min_valid_loss = val_loss\n",
    "        torch.save(model.state_dict(), 'saved_models/saved_model.pth')\n",
    "\n",
    "    if val_acc > max_valid_accuracy:\n",
    "        print(f'Validation accuracy increased ({max_valid_accuracy:.6f})--->{val_acc} \\t Saving the best accuracy model')\n",
    "        max_valid_accuracy = val_acc\n",
    "        torch.save(model.state_dict(), 'saved_models/best_accuracy_model.pth')\n",
    "        \n",
    "    scheduler.step(val_loss)\n",
    "\n"
   ]
  },
  {
   "cell_type": "markdown",
   "metadata": {},
   "source": [
    "# Test Model"
   ]
  },
  {
   "cell_type": "markdown",
   "metadata": {},
   "source": [
    "### Test model after all epochs"
   ]
  },
  {
   "cell_type": "code",
   "execution_count": 7,
   "metadata": {},
   "outputs": [
    {
     "name": "stdout",
     "output_type": "stream",
     "text": [
      "Validation Accuracy: 99.43%\n",
      "Precision Score: 0.9948\n",
      "Recall Score: 0.9942\n",
      "F1 Score: 0.9945\n"
     ]
    }
   ],
   "source": [
    "\n",
    "model.eval()  # Set the model to evaluation mode\n",
    "correct = 0\n",
    "total = 0\n",
    "predictions = []\n",
    "true_labels = []\n",
    "\n",
    "with torch.no_grad():\n",
    "    for batch_images, batch_labels in test_loader:\n",
    "        batch_images, batch_labels = batch_images.to(device), batch_labels.to(device)\n",
    "        outputs = model(batch_images)\n",
    "        _, predicted = torch.max(outputs, 1)\n",
    "        \n",
    "        predictions.extend(predicted.cpu().numpy())  # Convert predictions to CPU numpy array\n",
    "        true_labels.extend(batch_labels.cpu().numpy())  # Convert true labels to CPU numpy array\n",
    "        \n",
    "        total += batch_labels.size(0)\n",
    "        correct += (predicted == batch_labels).sum().item()\n",
    "\n",
    "# Calculate accuracy\n",
    "accuracy = 100 * correct / total\n",
    "print(f'Validation Accuracy: {accuracy:.2f}%')\n",
    "\n",
    "# Calculate precision score\n",
    "precision = precision_score(true_labels, predictions, average='macro')\n",
    "print(f'Precision Score: {precision:.4f}')\n",
    "\n",
    "# Calculate recall score\n",
    "recall = recall_score(true_labels, predictions, average='macro')\n",
    "print(f'Recall Score: {recall:.4f}')\n",
    "\n",
    "# Calculate F1 score\n",
    "f1 = f1_score(true_labels, predictions, average='macro')\n",
    "print(f'F1 Score: {f1:.4f}')\n"
   ]
  },
  {
   "cell_type": "markdown",
   "metadata": {},
   "source": [
    "### Test model with the lowest validation loss"
   ]
  },
  {
   "cell_type": "code",
   "execution_count": 8,
   "metadata": {},
   "outputs": [
    {
     "name": "stdout",
     "output_type": "stream",
     "text": [
      "Validation Accuracy: 99.29%\n",
      "Precision Score: 0.9933\n",
      "Recall Score: 0.9930\n",
      "F1 Score: 0.9932\n"
     ]
    }
   ],
   "source": [
    "model.load_state_dict(torch.load('saved_models/saved_model.pth'))\n",
    "\n",
    "\n",
    "model.eval()  # Set the model to evaluation mode\n",
    "correct = 0\n",
    "total = 0\n",
    "predictions = []\n",
    "true_labels = []\n",
    "\n",
    "with torch.no_grad():\n",
    "    for batch_images, batch_labels in test_loader:\n",
    "        batch_images, batch_labels = batch_images.to(device), batch_labels.to(device)\n",
    "        outputs = model(batch_images)\n",
    "        _, predicted = torch.max(outputs, 1)\n",
    "        \n",
    "        predictions.extend(predicted.cpu().numpy())  # Convert predictions to CPU numpy array\n",
    "        true_labels.extend(batch_labels.cpu().numpy())  # Convert true labels to CPU numpy array\n",
    "        \n",
    "        total += batch_labels.size(0)\n",
    "        correct += (predicted == batch_labels).sum().item()\n",
    "\n",
    "# Calculate accuracy\n",
    "accuracy = 100 * correct / total\n",
    "print(f'Validation Accuracy: {accuracy:.2f}%')\n",
    "\n",
    "# Calculate precision score\n",
    "precision = precision_score(true_labels, predictions, average='macro')\n",
    "print(f'Precision Score: {precision:.4f}')\n",
    "\n",
    "# Calculate recall score\n",
    "recall = recall_score(true_labels, predictions, average='macro')\n",
    "print(f'Recall Score: {recall:.4f}')\n",
    "\n",
    "# Calculate F1 score\n",
    "f1 = f1_score(true_labels, predictions, average='macro')\n",
    "print(f'F1 Score: {f1:.4f}')"
   ]
  },
  {
   "cell_type": "markdown",
   "metadata": {},
   "source": [
    "### Test model with best validation accuracy"
   ]
  },
  {
   "cell_type": "code",
   "execution_count": 9,
   "metadata": {},
   "outputs": [
    {
     "name": "stdout",
     "output_type": "stream",
     "text": [
      "Validation Accuracy: 99.57%\n",
      "Precision Score: 0.9960\n",
      "Recall Score: 0.9957\n",
      "F1 Score: 0.9959\n"
     ]
    }
   ],
   "source": [
    "model.load_state_dict(torch.load('saved_models/best_accuracy_model.pth'))\n",
    "\n",
    "model.eval()  # Set the model to evaluation mode\n",
    "correct = 0\n",
    "total = 0\n",
    "predictions = []\n",
    "true_labels = []\n",
    "\n",
    "with torch.no_grad():\n",
    "    for batch_images, batch_labels in test_loader:\n",
    "        batch_images, batch_labels = batch_images.to(device), batch_labels.to(device)\n",
    "        outputs = model(batch_images)\n",
    "        _, predicted = torch.max(outputs, 1)\n",
    "        \n",
    "        predictions.extend(predicted.cpu().numpy())  # Convert predictions to CPU numpy array\n",
    "        true_labels.extend(batch_labels.cpu().numpy())  # Convert true labels to CPU numpy array\n",
    "        \n",
    "        total += batch_labels.size(0)\n",
    "        correct += (predicted == batch_labels).sum().item()\n",
    "\n",
    "# Calculate accuracy\n",
    "accuracy = 100 * correct / total\n",
    "print(f'Validation Accuracy: {accuracy:.2f}%')\n",
    "\n",
    "# Calculate precision score\n",
    "precision = precision_score(true_labels, predictions, average='macro')\n",
    "print(f'Precision Score: {precision:.4f}')\n",
    "\n",
    "# Calculate recall score\n",
    "recall = recall_score(true_labels, predictions, average='macro')\n",
    "print(f'Recall Score: {recall:.4f}')\n",
    "\n",
    "# Calculate F1 score\n",
    "f1 = f1_score(true_labels, predictions, average='macro')\n",
    "print(f'F1 Score: {f1:.4f}')"
   ]
  },
  {
   "cell_type": "markdown",
   "metadata": {},
   "source": [
    "# Plot Training and Validation and Loss and Accuracy"
   ]
  },
  {
   "cell_type": "code",
   "execution_count": 10,
   "metadata": {},
   "outputs": [
    {
     "data": {
      "image/png": "[encoded data removed]",
      "text/plain": [
       "<Figure size 1200x600 with 2 Axes>"
      ]
     },
     "metadata": {},
     "output_type": "display_data"
    }
   ],
   "source": [
    "import matplotlib.pyplot as plt\n",
    "\n",
    "# Plotting loss\n",
    "plt.figure(figsize=(12, 6))\n",
    "\n",
    "epochs = range(1, len(train_losses) + 1)\n",
    "\n",
    "\n",
    "plt.subplot(1, 2, 1)\n",
    "plt.plot(epochs, train_losses, 'b', label='Training loss')\n",
    "plt.plot(epochs, val_losses, 'r', label='Validation loss')\n",
    "plt.title('Training and Validation Loss')\n",
    "plt.xlabel('Epochs')\n",
    "plt.ylabel('Loss')\n",
    "plt.legend()\n",
    "\n",
    "# Plotting accuracy\n",
    "plt.subplot(1, 2, 2)\n",
    "plt.plot(epochs, train_accuracies, 'b', label='Training accuracy')\n",
    "plt.plot(epochs, val_accuracies, 'r', label='Validation accuracy')\n",
    "plt.title('Training and Validation Accuracy')\n",
    "plt.xlabel('Epochs')\n",
    "plt.ylabel('Accuracy')\n",
    "plt.legend()\n",
    "\n",
    "plt.tight_layout()\n",
    "plt.show()"
   ]
  }
 ],
 "metadata": {
  "kernelspec": {
   "display_name": "venv",
   "language": "python",
   "name": "python3"
  },
  "language_info": {
   "codemirror_mode": {
    "name": "ipython",
    "version": 3
   },
   "file_extension": ".py",
   "mimetype": "text/x-python",
   "name": "python",
   "nbconvert_exporter": "python",
   "pygments_lexer": "ipython3",
   "version": "3.11.7"
  }
 },
 "nbformat": 4,
 "nbformat_minor": 2
}
